{
 "cells": [
  {
   "cell_type": "code",
   "execution_count": 1,
   "id": "820711f3",
   "metadata": {
    "_cell_guid": "b1076dfc-b9ad-4769-8c92-a6c4dae69d19",
    "_uuid": "8f2839f25d086af736a60e9eeb907d3b93b6e0e5",
    "execution": {
     "iopub.execute_input": "2023-05-13T14:48:50.950473Z",
     "iopub.status.busy": "2023-05-13T14:48:50.950122Z",
     "iopub.status.idle": "2023-05-13T14:48:50.958680Z",
     "shell.execute_reply": "2023-05-13T14:48:50.957832Z"
    },
    "papermill": {
     "duration": 0.014804,
     "end_time": "2023-05-13T14:48:50.960716",
     "exception": false,
     "start_time": "2023-05-13T14:48:50.945912",
     "status": "completed"
    },
    "tags": []
   },
   "outputs": [],
   "source": [
    "import pandas as pd"
   ]
  },
  {
   "cell_type": "code",
   "execution_count": 2,
   "id": "918680d0",
   "metadata": {
    "execution": {
     "iopub.execute_input": "2023-05-13T14:48:50.968580Z",
     "iopub.status.busy": "2023-05-13T14:48:50.968161Z",
     "iopub.status.idle": "2023-05-13T14:48:55.607326Z",
     "shell.execute_reply": "2023-05-13T14:48:55.605899Z"
    },
    "papermill": {
     "duration": 4.646758,
     "end_time": "2023-05-13T14:48:55.609860",
     "exception": false,
     "start_time": "2023-05-13T14:48:50.963102",
     "status": "completed"
    },
    "tags": []
   },
   "outputs": [],
   "source": [
    "git_commit = pd.read_csv('/kaggle/input/linux-kernel-git-revision-history/linux_kernel_git_revlog.csv')\n",
    "\n",
    "git_commit.drop(columns=['author_timestamp', 'commit_utc_offset_hours', 'subject', 'author_id'], inplace=True)\n",
    "git_commit['modifications'] = git_commit['n_additions'] + git_commit['n_deletions']"
   ]
  },
  {
   "cell_type": "code",
   "execution_count": 3,
   "id": "15dc2f74",
   "metadata": {
    "execution": {
     "iopub.execute_input": "2023-05-13T14:48:55.618381Z",
     "iopub.status.busy": "2023-05-13T14:48:55.616937Z",
     "iopub.status.idle": "2023-05-13T14:48:55.624308Z",
     "shell.execute_reply": "2023-05-13T14:48:55.623046Z"
    },
    "papermill": {
     "duration": 0.013867,
     "end_time": "2023-05-13T14:48:55.626520",
     "exception": false,
     "start_time": "2023-05-13T14:48:55.612653",
     "status": "completed"
    },
    "tags": []
   },
   "outputs": [],
   "source": [
    "def split_string(string, delimiter):\n",
    "    if delimiter in string:\n",
    "        return string.split(delimiter)\n",
    "    else:\n",
    "        return [string]\n",
    "\n",
    "def get_directories(filepath):\n",
    "    directories = split_string(filepath, '/')\n",
    "    directories.reverse()\n",
    "    result = []\n",
    "    for i in range(0, len(directories)):\n",
    "        result.append(directories[i:])\n",
    "    return result"
   ]
  },
  {
   "cell_type": "code",
   "execution_count": 4,
   "id": "8a3524c2",
   "metadata": {
    "execution": {
     "iopub.execute_input": "2023-05-13T14:48:55.632453Z",
     "iopub.status.busy": "2023-05-13T14:48:55.632034Z",
     "iopub.status.idle": "2023-05-13T14:49:02.525397Z",
     "shell.execute_reply": "2023-05-13T14:49:02.524146Z"
    },
    "papermill": {
     "duration": 6.899213,
     "end_time": "2023-05-13T14:49:02.527927",
     "exception": false,
     "start_time": "2023-05-13T14:48:55.628714",
     "status": "completed"
    },
    "tags": []
   },
   "outputs": [],
   "source": [
    "git_commit['FilePaths'] = git_commit['filename'].map(lambda f: get_directories(f))\n",
    "git_commit.drop(columns=['filename', 'n_additions', 'n_deletions'], inplace=True)"
   ]
  },
  {
   "cell_type": "code",
   "execution_count": 5,
   "id": "d39b1126",
   "metadata": {
    "execution": {
     "iopub.execute_input": "2023-05-13T14:49:02.535042Z",
     "iopub.status.busy": "2023-05-13T14:49:02.534644Z",
     "iopub.status.idle": "2023-05-13T14:49:10.600985Z",
     "shell.execute_reply": "2023-05-13T14:49:10.599733Z"
    },
    "papermill": {
     "duration": 8.072516,
     "end_time": "2023-05-13T14:49:10.603157",
     "exception": false,
     "start_time": "2023-05-13T14:49:02.530641",
     "status": "completed"
    },
    "tags": []
   },
   "outputs": [
    {
     "data": {
      "text/plain": [
       "commit_hash                               filepath                       \n",
       "00001880cd8faaa349fe2ebb158f7e0cd8026048  drivers                             4\n",
       "                                          net/drivers                         4\n",
       "                                          qmi_wwan.c/usb/net/drivers          4\n",
       "                                          usb/net/drivers                     4\n",
       "000025cfbb9e8bafd0a1fa84d8d83526d24bde42  arch                               86\n",
       "                                                                             ..\n",
       "ffffa4b502099a03b5215b814fdcd79fb4348854  devices.txt/power/Documentation    49\n",
       "                                          power/Documentation                49\n",
       "ffffeaf318bd8da036eb8eb784b025a9f829201b  kernel                             12\n",
       "                                          locking/kernel                     12\n",
       "                                          qrwlock.c/locking/kernel           12\n",
       "Name: modifications, Length: 3593847, dtype: int64"
      ]
     },
     "execution_count": 5,
     "metadata": {},
     "output_type": "execute_result"
    }
   ],
   "source": [
    "expanded_paths = git_commit.explode('FilePaths')\n",
    "expanded_paths['filepath'] = expanded_paths['FilePaths'].map(lambda f: '/'.join(f))\n",
    "modifications_per_commit = expanded_paths.groupby(['commit_hash', 'filepath'])['modifications'].sum()\n",
    "\n",
    "modifications_per_commit"
   ]
  },
  {
   "cell_type": "code",
   "execution_count": 6,
   "id": "9e6a2d0a",
   "metadata": {
    "execution": {
     "iopub.execute_input": "2023-05-13T14:49:10.609740Z",
     "iopub.status.busy": "2023-05-13T14:49:10.609332Z",
     "iopub.status.idle": "2023-05-13T14:49:10.935073Z",
     "shell.execute_reply": "2023-05-13T14:49:10.933712Z"
    },
    "papermill": {
     "duration": 0.332177,
     "end_time": "2023-05-13T14:49:10.937664",
     "exception": false,
     "start_time": "2023-05-13T14:49:10.605487",
     "status": "completed"
    },
    "tags": []
   },
   "outputs": [
    {
     "data": {
      "text/plain": [
       "commit_hash                               filepath                       \n",
       "00001880cd8faaa349fe2ebb158f7e0cd8026048  drivers                             4\n",
       "                                          net/drivers                         4\n",
       "                                          qmi_wwan.c/usb/net/drivers          4\n",
       "                                          usb/net/drivers                     4\n",
       "000025cfbb9e8bafd0a1fa84d8d83526d24bde42  arch                               86\n",
       "                                                                             ..\n",
       "ffffa4b502099a03b5215b814fdcd79fb4348854  devices.txt/power/Documentation    49\n",
       "                                          power/Documentation                49\n",
       "ffffeaf318bd8da036eb8eb784b025a9f829201b  kernel                             12\n",
       "                                          locking/kernel                     12\n",
       "                                          qrwlock.c/locking/kernel           12\n",
       "Name: modifications, Length: 3593847, dtype: int64"
      ]
     },
     "execution_count": 6,
     "metadata": {},
     "output_type": "execute_result"
    }
   ],
   "source": [
    "modifications_per_commit.reset_index()\n",
    "\n",
    "modifications_per_commit"
   ]
  }
 ],
 "metadata": {
  "kernelspec": {
   "display_name": "Python 3",
   "language": "python",
   "name": "python3"
  },
  "language_info": {
   "codemirror_mode": {
    "name": "ipython",
    "version": 3
   },
   "file_extension": ".py",
   "mimetype": "text/x-python",
   "name": "python",
   "nbconvert_exporter": "python",
   "pygments_lexer": "ipython3",
   "version": "3.10.10"
  },
  "papermill": {
   "default_parameters": {},
   "duration": 31.855282,
   "end_time": "2023-05-13T14:49:12.965918",
   "environment_variables": {},
   "exception": null,
   "input_path": "__notebook__.ipynb",
   "output_path": "__notebook__.ipynb",
   "parameters": {},
   "start_time": "2023-05-13T14:48:41.110636",
   "version": "2.4.0"
  }
 },
 "nbformat": 4,
 "nbformat_minor": 5
}
